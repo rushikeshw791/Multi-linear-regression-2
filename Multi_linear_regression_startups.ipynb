{
  "nbformat": 4,
  "nbformat_minor": 0,
  "metadata": {
    "colab": {
      "provenance": [],
      "authorship_tag": "ABX9TyOVn0VO2R9MzZdvPwTM7Pal",
      "include_colab_link": true
    },
    "kernelspec": {
      "name": "python3",
      "display_name": "Python 3"
    },
    "language_info": {
      "name": "python"
    }
  },
  "cells": [
    {
      "cell_type": "markdown",
      "metadata": {
        "id": "view-in-github",
        "colab_type": "text"
      },
      "source": [
        "<a href=\"https://colab.research.google.com/github/rushikeshw791/Multi-linear-regression-2/blob/main/Multi_linear_regression_startups.ipynb\" target=\"_parent\"><img src=\"https://colab.research.google.com/assets/colab-badge.svg\" alt=\"Open In Colab\"/></a>"
      ]
    },
    {
      "cell_type": "markdown",
      "source": [
        "**Assignment**\n",
        "\n",
        "Multi linear regression \n",
        "\n",
        "50-startups"
      ],
      "metadata": {
        "id": "bL2hmXjsl2Dg"
      }
    },
    {
      "cell_type": "code",
      "execution_count": null,
      "metadata": {
        "id": "C-wsIa_HlgVp"
      },
      "outputs": [],
      "source": [
        "#import libraries\n",
        "import pandas as pd\n",
        "import numpy as np \n",
        "import seaborn as sns\n",
        "import statsmodels.formula.api as smf\n",
        "import matplotlib.pyplot as plt"
      ]
    },
    {
      "cell_type": "code",
      "source": [
        "# loading the data\n",
        "startup=pd.read_csv('https://github.com/rushikeshw791/Multi-linear-regression-2/files/9786541/50_Startups.csv')\n",
        "startup.head()"
      ],
      "metadata": {
        "id": "WnEJurCJmwGJ"
      },
      "execution_count": null,
      "outputs": []
    },
    {
      "cell_type": "markdown",
      "source": [
        "**EDA and Data Visualization**"
      ],
      "metadata": {
        "id": "-OuFFfQMo8Bc"
      }
    },
    {
      "cell_type": "code",
      "source": [
        "startup.info()"
      ],
      "metadata": {
        "id": "QupTBjvVoLS7"
      },
      "execution_count": null,
      "outputs": []
    },
    {
      "cell_type": "markdown",
      "source": [
        "All datatypes are correct.\n",
        "\n",
        "Except 'State' is a Categorical feature we need to do some encoding or convert it into numerical values by putting dummy values."
      ],
      "metadata": {
        "id": "geRbP0dIujY1"
      }
    },
    {
      "cell_type": "code",
      "source": [
        "# Dscriptive analysis\n",
        "startup.describe()"
      ],
      "metadata": {
        "id": "saXS0VKfpR0L"
      },
      "execution_count": null,
      "outputs": []
    },
    {
      "cell_type": "code",
      "source": [
        "# checking for null values\n",
        "startup.isnull().sum()"
      ],
      "metadata": {
        "id": "Y__GPxWvpWNJ"
      },
      "execution_count": null,
      "outputs": []
    },
    {
      "cell_type": "markdown",
      "source": [
        "there are no missing values in dataset"
      ],
      "metadata": {
        "id": "EZhJ_HHPdGtT"
      }
    },
    {
      "cell_type": "code",
      "source": [
        "startup.shape"
      ],
      "metadata": {
        "id": "PMoSAbl9dC-L"
      },
      "execution_count": null,
      "outputs": []
    },
    {
      "cell_type": "code",
      "source": [
        "# renaming columns\n",
        "data=startup.rename({'R&D Spend':'rds','Administration':'admin','Marketing Spend':'marketing','State':'state','Profit':'profit'},axis=1)\n",
        "data.head()"
      ],
      "metadata": {
        "id": "9AvE997uphLx"
      },
      "execution_count": null,
      "outputs": []
    },
    {
      "cell_type": "code",
      "source": [
        "# for finding duplicate values\n",
        "data[data.duplicated()]"
      ],
      "metadata": {
        "id": "mDEqR9ZKqaDv"
      },
      "execution_count": null,
      "outputs": []
    },
    {
      "cell_type": "markdown",
      "source": [
        "There are no duplicate values in dataset."
      ],
      "metadata": {
        "id": "9kYPMA1GvV9w"
      }
    },
    {
      "cell_type": "markdown",
      "source": [
        "**Correlation Analysis**"
      ],
      "metadata": {
        "id": "VJXbibzyq9oQ"
      }
    },
    {
      "cell_type": "code",
      "source": [
        "data.corr()"
      ],
      "metadata": {
        "id": "PJTUreusq6GB"
      },
      "execution_count": null,
      "outputs": []
    },
    {
      "cell_type": "code",
      "source": [
        "sns.set_style(style='darkgrid')\n",
        "sns.pairplot(data)"
      ],
      "metadata": {
        "id": "s62lpRuCrF64"
      },
      "execution_count": null,
      "outputs": []
    },
    {
      "cell_type": "markdown",
      "source": [
        "**Model Building**"
      ],
      "metadata": {
        "id": "2dlE_PAMvmIQ"
      }
    },
    {
      "cell_type": "code",
      "source": [
        "model = smf.ols(\"profit~rds+admin+marketing\",data=data).fit()"
      ],
      "metadata": {
        "id": "h0ylaw9wrUUG"
      },
      "execution_count": null,
      "outputs": []
    },
    {
      "cell_type": "markdown",
      "source": [
        "**Model Testing**"
      ],
      "metadata": {
        "id": "SPti79Pz7B5v"
      }
    },
    {
      "cell_type": "code",
      "source": [
        "# finding coefficient parameter\n",
        "model.params"
      ],
      "metadata": {
        "id": "XXeoV8yk6-xo"
      },
      "execution_count": null,
      "outputs": []
    },
    {
      "cell_type": "code",
      "source": [
        "# finding tvalues and pvalues\n",
        "model.tvalues , np.round(model.pvalues,5)"
      ],
      "metadata": {
        "id": "mk6y3Lgo0KBT"
      },
      "execution_count": null,
      "outputs": []
    },
    {
      "cell_type": "code",
      "source": [
        "# finding rsquared values\n",
        "model.rsquared , model.rsquared_adj"
      ],
      "metadata": {
        "id": "GEN2mmkn71Y3"
      },
      "execution_count": null,
      "outputs": []
    },
    {
      "cell_type": "markdown",
      "source": [
        "Model accuracy is 94.75%"
      ],
      "metadata": {
        "id": "Te1BOfWT8Hzp"
      }
    },
    {
      "cell_type": "code",
      "source": [
        "# build SLR and MLR models for insignificant variables 'admin' and 'marketing'\n",
        "slr_admin=smf.ols(\"profit~admin\",data=data).fit()"
      ],
      "metadata": {
        "id": "9VAu5kRi8GSN"
      },
      "execution_count": null,
      "outputs": []
    },
    {
      "cell_type": "code",
      "source": [
        "# finding tvalues and pvalues\n",
        "slr_admin.tvalues , slr_admin.pvalues"
      ],
      "metadata": {
        "id": "t2J0vuI49VV9"
      },
      "execution_count": null,
      "outputs": []
    },
    {
      "cell_type": "code",
      "source": [
        "# for marketing\n",
        "slr_mark=smf.ols(\"profit~marketing\",data=data).fit()\n",
        "slr_mark.tvalues,slr_mark.pvalues"
      ],
      "metadata": {
        "id": "p4izGUgb9pR2"
      },
      "execution_count": null,
      "outputs": []
    },
    {
      "cell_type": "code",
      "source": [
        "# for admin+marketing MLR\n",
        "mlr_am=smf.ols(\"profit~admin+marketing\",data=data).fit()\n",
        "mlr_am.tvalues,mlr_am.pvalues"
      ],
      "metadata": {
        "id": "WOSXCmQI-MGG"
      },
      "execution_count": null,
      "outputs": []
    },
    {
      "cell_type": "markdown",
      "source": [
        "**Model Validation**\n",
        "\n",
        "**1.Colinearity check**"
      ],
      "metadata": {
        "id": "BsOmgfae_Qgb"
      }
    },
    {
      "cell_type": "code",
      "source": [
        "# 1) Colinearity Problem Check\n",
        "# Calculate VIF = 1/(1-Rsquare) for all independent variables\n",
        "\n",
        "rsq_r=smf.ols(\"rds~admin+marketing\",data=data).fit().rsquared\n",
        "vif_r=1/(1-rsq_r)"
      ],
      "metadata": {
        "id": "ATVH70-h-wrT"
      },
      "execution_count": null,
      "outputs": []
    },
    {
      "cell_type": "code",
      "source": [
        "rsq_a=smf.ols(\"admin~rds+marketing\",data=data).fit().rsquared\n",
        "vif_a=1/(1-rsq_a)"
      ],
      "metadata": {
        "id": "QOK-pXXlYkky"
      },
      "execution_count": null,
      "outputs": []
    },
    {
      "cell_type": "code",
      "source": [
        "rsq_m=smf.ols(\"marketing~rds+admin\",data=data).fit().rsquared\n",
        "vif_m=1/(1-rsq_m)"
      ],
      "metadata": {
        "id": "3GMKJbGGZCLK"
      },
      "execution_count": null,
      "outputs": []
    },
    {
      "cell_type": "code",
      "source": [
        "# Putting the values in Dataframe format\n",
        "data1={'Variables':['rds','admin','marketing'],'Vif':[vif_r,vif_a,vif_m]}\n",
        "Vif_df=pd.DataFrame(data1)\n",
        "Vif_df"
      ],
      "metadata": {
        "id": "-wu2Zok8ZOtY"
      },
      "execution_count": null,
      "outputs": []
    },
    {
      "cell_type": "markdown",
      "source": [
        "**2.Residual Analysis**"
      ],
      "metadata": {
        "id": "QYCslkCkZcBC"
      }
    },
    {
      "cell_type": "code",
      "source": [
        "import statsmodels.api as sm\n",
        "model=smf.ols(\"profit~rds+admin+marketing\",data=data).fit()\n",
        "qqplot=sm.qqplot(model.resid,line='q') \n",
        "plt.title(\"Normal Q-Q plot of residuals\")\n",
        "plt.show()"
      ],
      "metadata": {
        "id": "vpkbiHw7ZZch"
      },
      "execution_count": null,
      "outputs": []
    },
    {
      "cell_type": "markdown",
      "source": [
        "Data showing homoscedacity"
      ],
      "metadata": {
        "id": "JPpki8QiaQBt"
      }
    },
    {
      "cell_type": "code",
      "source": [
        "list(np.where(model.resid>10))"
      ],
      "metadata": {
        "id": "X1jBOBQ-aEKr"
      },
      "execution_count": null,
      "outputs": []
    },
    {
      "cell_type": "markdown",
      "source": [
        "**Residual Plot for Homoscedasticity**"
      ],
      "metadata": {
        "id": "XVufvHO6aK3p"
      }
    },
    {
      "cell_type": "code",
      "source": [
        "model=smf.ols(\"profit~rds+admin+marketing\",data=data).fit()"
      ],
      "metadata": {
        "id": "vXwrNDhyaI7K"
      },
      "execution_count": null,
      "outputs": []
    },
    {
      "cell_type": "code",
      "source": [
        "model.summary()"
      ],
      "metadata": {
        "id": "Kqi9Y69nEAGl"
      },
      "execution_count": null,
      "outputs": []
    },
    {
      "cell_type": "code",
      "source": [
        "def get_standardized_values( vals ):\n",
        "    return (vals - vals.mean())/vals.std()"
      ],
      "metadata": {
        "id": "uLvPnViFaxvW"
      },
      "execution_count": null,
      "outputs": []
    },
    {
      "cell_type": "code",
      "source": [
        "plt.figure(figsize=(15,10))\n",
        "plt.scatter(get_standardized_values(model.fittedvalues),\n",
        "            get_standardized_values(model.resid))\n",
        "\n",
        "plt.title('Residual Plot')\n",
        "plt.xlabel('Standardized Fitted values')\n",
        "plt.ylabel('Standardized residual values')\n",
        "plt.show()"
      ],
      "metadata": {
        "id": "Qv0kS-dFa8vK"
      },
      "execution_count": null,
      "outputs": []
    },
    {
      "cell_type": "markdown",
      "source": [
        "**Residual Vs Regressors plots**"
      ],
      "metadata": {
        "id": "s0U1yfGAbba5"
      }
    },
    {
      "cell_type": "code",
      "source": [
        "fig = plt.figure(figsize=(15,10))\n",
        "fig = sm.graphics.plot_regress_exog(model, \"rds\", fig=fig)\n",
        "plt.show()"
      ],
      "metadata": {
        "id": "-0vpcazLa_yp"
      },
      "execution_count": null,
      "outputs": []
    },
    {
      "cell_type": "code",
      "source": [
        "fig = plt.figure(figsize=(15,10))\n",
        "fig = sm.graphics.plot_regress_exog(model, \"admin\", fig=fig)\n",
        "plt.show()"
      ],
      "metadata": {
        "id": "qNhJMItBbjLz"
      },
      "execution_count": null,
      "outputs": []
    },
    {
      "cell_type": "code",
      "source": [
        "fig = plt.figure(figsize=(15,10))\n",
        "fig = sm.graphics.plot_regress_exog(model, \"marketing\", fig=fig)\n",
        "plt.show()"
      ],
      "metadata": {
        "id": "mJlupkNybuwM"
      },
      "execution_count": null,
      "outputs": []
    },
    {
      "cell_type": "markdown",
      "source": [
        "**Identify the outliers**\n",
        "\n",
        "by cook's distance"
      ],
      "metadata": {
        "id": "eUFFMGapb6cg"
      }
    },
    {
      "cell_type": "code",
      "source": [
        "from statsmodels.graphics.regressionplots import influence_plot\n",
        "\n",
        "model_influence = model.get_influence()\n",
        "(c, _) = model_influence.cooks_distance"
      ],
      "metadata": {
        "id": "pq48T-Lfb1dO"
      },
      "execution_count": null,
      "outputs": []
    },
    {
      "cell_type": "code",
      "source": [
        "#Plot the influencers values using stem plot\n",
        "fig = plt.subplots(figsize=(20, 7))\n",
        "plt.stem(np.arange(len(startup)), np.round(c, 3))\n",
        "plt.xlabel('Row index')\n",
        "plt.ylabel('Cooks Distance')\n",
        "plt.show()"
      ],
      "metadata": {
        "id": "FIZ2BJeXcM6i"
      },
      "execution_count": null,
      "outputs": []
    },
    {
      "cell_type": "markdown",
      "source": [
        "index and value of the influencer where c is more than 0.5"
      ],
      "metadata": {
        "id": "Z2OO9tvMcisd"
      }
    },
    {
      "cell_type": "code",
      "source": [
        "(np.argmax(c),np.max(c))"
      ],
      "metadata": {
        "id": "pjxVAcowcSlj"
      },
      "execution_count": null,
      "outputs": []
    },
    {
      "cell_type": "markdown",
      "source": [
        "**High Influence points**"
      ],
      "metadata": {
        "id": "ibtC6qnRhpUJ"
      }
    },
    {
      "cell_type": "code",
      "source": [
        "k = startup.shape[1]\n",
        "n = startup.shape[0]\n",
        "leverage_cutoff = 3*((k + 1)/n)\n",
        "leverage_cutoff"
      ],
      "metadata": {
        "id": "GprmXgL2chxD"
      },
      "execution_count": null,
      "outputs": []
    },
    {
      "cell_type": "code",
      "source": [
        "from statsmodels.graphics.regressionplots import influence_plot\n"
      ],
      "metadata": {
        "id": "q6cx0wJTh2Ym"
      },
      "execution_count": null,
      "outputs": []
    },
    {
      "cell_type": "code",
      "source": [
        "influence_plot(model,alhpa=0.5)\n",
        "\n",
        "y=[i for i in range(-2,8)]\n",
        "x=[leverage_cutoff for i in range(10)]\n",
        "plt.plot(x,y,'r+')\n",
        "\n",
        "plt.show()"
      ],
      "metadata": {
        "id": "oF5lYmNsiBix"
      },
      "execution_count": null,
      "outputs": []
    },
    {
      "cell_type": "markdown",
      "source": [
        "we can see in above plot,that the data point 49 is the influencer."
      ],
      "metadata": {
        "id": "4V7rcvDJiLbH"
      }
    },
    {
      "cell_type": "code",
      "source": [
        "data[data.index.isin([49])]"
      ],
      "metadata": {
        "id": "bkrsO_CSiHbI"
      },
      "execution_count": null,
      "outputs": []
    },
    {
      "cell_type": "markdown",
      "source": [
        "**Improving the model**"
      ],
      "metadata": {
        "id": "fEvb79ubicTf"
      }
    },
    {
      "cell_type": "code",
      "source": [
        "#Discard the data points which are influencers and reasign the row number (reset_index())\n",
        "data2=data.drop(startup.index[[49]],axis=0).reset_index(drop=True)"
      ],
      "metadata": {
        "id": "e_6gFaOFiaDL"
      },
      "execution_count": null,
      "outputs": []
    },
    {
      "cell_type": "code",
      "source": [
        "data2"
      ],
      "metadata": {
        "id": "jmhQb57IizLU"
      },
      "execution_count": null,
      "outputs": []
    },
    {
      "cell_type": "markdown",
      "source": [
        "**Final Model**"
      ],
      "metadata": {
        "id": "gXgQXUH0i7A0"
      }
    },
    {
      "cell_type": "code",
      "source": [
        "# model delation diagnosis\n",
        "while np.max(c)>0.5 :\n",
        "    model=smf.ols(\"profit~rds+admin+marketing\",data=data2).fit()\n",
        "    (c,_)=model.get_influence().cooks_distance\n",
        "    c\n",
        "    np.argmax(c) , np.max(c)\n",
        "    data_=data2.drop(data2.index[[np.argmax(c)]],axis=0).reset_index(drop=True)\n",
        "    data_\n",
        "else:\n",
        "    final_model=smf.ols(\"profit~rds+admin+marketing\",data=data2).fit()\n",
        "    final_model.rsquared , final_model.aic\n",
        "    print(\"Thus model accuracy is improved to\",final_model.rsquared)"
      ],
      "metadata": {
        "id": "XPwufPCNi33z"
      },
      "execution_count": null,
      "outputs": []
    },
    {
      "cell_type": "code",
      "source": [
        "final_model.rsquared"
      ],
      "metadata": {
        "id": "PKCBsv9xjkkp"
      },
      "execution_count": null,
      "outputs": []
    },
    {
      "cell_type": "code",
      "source": [
        "final_model.summary()"
      ],
      "metadata": {
        "id": "1j6V-IhDnEtU"
      },
      "execution_count": null,
      "outputs": []
    },
    {
      "cell_type": "markdown",
      "source": [
        "**Model prediction**"
      ],
      "metadata": {
        "id": "cRsZTJKfkAPT"
      }
    },
    {
      "cell_type": "code",
      "source": [
        "# prediction for new data\n",
        "startup1=pd.DataFrame({'rds':70000,\"admin\":90000,\"marketing\":140000},index=[0])\n",
        "startup1"
      ],
      "metadata": {
        "id": "BysrzfUsjqqr"
      },
      "execution_count": null,
      "outputs": []
    },
    {
      "cell_type": "code",
      "source": [
        "# Manual Prediction of Price\n",
        "final_model.predict(startup1)"
      ],
      "metadata": {
        "id": "9YRgp05rjsge"
      },
      "execution_count": null,
      "outputs": []
    },
    {
      "cell_type": "code",
      "source": [
        "# Automatic Prediction of Price \n",
        "pred_y=final_model.predict(data)\n",
        "pred_y"
      ],
      "metadata": {
        "id": "J-Q35xDckcWW"
      },
      "execution_count": null,
      "outputs": []
    },
    {
      "cell_type": "code",
      "source": [
        "d2={'Prep_Models':['Model','Final_Model'],'Rsquared':[model.rsquared,final_model.rsquared]}\n",
        "table=pd.DataFrame(d2)\n",
        "table"
      ],
      "metadata": {
        "id": "qkv3wmJ5khd4"
      },
      "execution_count": null,
      "outputs": []
    }
  ]
}